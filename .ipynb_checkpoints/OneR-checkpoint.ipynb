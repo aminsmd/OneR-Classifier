{
 "cells": [
  {
   "cell_type": "code",
   "execution_count": 1,
   "metadata": {},
   "outputs": [],
   "source": [
    "import pandas as pd\n",
    "import numpy as np\n",
    "import matplotlib.pyplot as plt\n",
    "import math"
   ]
  },
  {
   "cell_type": "markdown",
   "metadata": {},
   "source": [
    "# Reading Data and Preprocessing"
   ]
  },
  {
   "cell_type": "code",
   "execution_count": 2,
   "metadata": {},
   "outputs": [],
   "source": [
    "data = pd.read_csv('agaricus-lepiota-subset.csv') # reading data"
   ]
  },
  {
   "cell_type": "code",
   "execution_count": 3,
   "metadata": {},
   "outputs": [
    {
     "data": {
      "text/html": [
       "<div>\n",
       "<style scoped>\n",
       "    .dataframe tbody tr th:only-of-type {\n",
       "        vertical-align: middle;\n",
       "    }\n",
       "\n",
       "    .dataframe tbody tr th {\n",
       "        vertical-align: top;\n",
       "    }\n",
       "\n",
       "    .dataframe thead th {\n",
       "        text-align: right;\n",
       "    }\n",
       "</style>\n",
       "<table border=\"1\" class=\"dataframe\">\n",
       "  <thead>\n",
       "    <tr style=\"text-align: right;\">\n",
       "      <th></th>\n",
       "      <th>p</th>\n",
       "      <th>k</th>\n",
       "      <th>y</th>\n",
       "      <th>e</th>\n",
       "      <th>f</th>\n",
       "      <th>s</th>\n",
       "      <th>f.1</th>\n",
       "      <th>c</th>\n",
       "      <th>n</th>\n",
       "      <th>b</th>\n",
       "      <th>...</th>\n",
       "      <th>k.1</th>\n",
       "      <th>p.1</th>\n",
       "      <th>w</th>\n",
       "      <th>p.2</th>\n",
       "      <th>w.1</th>\n",
       "      <th>o</th>\n",
       "      <th>e.1</th>\n",
       "      <th>w.2</th>\n",
       "      <th>v</th>\n",
       "      <th>p.3</th>\n",
       "    </tr>\n",
       "  </thead>\n",
       "  <tbody>\n",
       "    <tr>\n",
       "      <th>0</th>\n",
       "      <td>e</td>\n",
       "      <td>k</td>\n",
       "      <td>s</td>\n",
       "      <td>n</td>\n",
       "      <td>f</td>\n",
       "      <td>n</td>\n",
       "      <td>a</td>\n",
       "      <td>c</td>\n",
       "      <td>b</td>\n",
       "      <td>y</td>\n",
       "      <td>...</td>\n",
       "      <td>s</td>\n",
       "      <td>o</td>\n",
       "      <td>o</td>\n",
       "      <td>p</td>\n",
       "      <td>n</td>\n",
       "      <td>o</td>\n",
       "      <td>p</td>\n",
       "      <td>o</td>\n",
       "      <td>v</td>\n",
       "      <td>l</td>\n",
       "    </tr>\n",
       "    <tr>\n",
       "      <th>1</th>\n",
       "      <td>p</td>\n",
       "      <td>k</td>\n",
       "      <td>s</td>\n",
       "      <td>e</td>\n",
       "      <td>f</td>\n",
       "      <td>f</td>\n",
       "      <td>f</td>\n",
       "      <td>c</td>\n",
       "      <td>n</td>\n",
       "      <td>b</td>\n",
       "      <td>...</td>\n",
       "      <td>s</td>\n",
       "      <td>w</td>\n",
       "      <td>w</td>\n",
       "      <td>p</td>\n",
       "      <td>w</td>\n",
       "      <td>o</td>\n",
       "      <td>e</td>\n",
       "      <td>w</td>\n",
       "      <td>v</td>\n",
       "      <td>d</td>\n",
       "    </tr>\n",
       "    <tr>\n",
       "      <th>2</th>\n",
       "      <td>p</td>\n",
       "      <td>k</td>\n",
       "      <td>y</td>\n",
       "      <td>c</td>\n",
       "      <td>f</td>\n",
       "      <td>m</td>\n",
       "      <td>a</td>\n",
       "      <td>c</td>\n",
       "      <td>b</td>\n",
       "      <td>y</td>\n",
       "      <td>...</td>\n",
       "      <td>y</td>\n",
       "      <td>c</td>\n",
       "      <td>c</td>\n",
       "      <td>p</td>\n",
       "      <td>w</td>\n",
       "      <td>n</td>\n",
       "      <td>n</td>\n",
       "      <td>w</td>\n",
       "      <td>c</td>\n",
       "      <td>d</td>\n",
       "    </tr>\n",
       "    <tr>\n",
       "      <th>3</th>\n",
       "      <td>p</td>\n",
       "      <td>k</td>\n",
       "      <td>s</td>\n",
       "      <td>n</td>\n",
       "      <td>f</td>\n",
       "      <td>y</td>\n",
       "      <td>f</td>\n",
       "      <td>c</td>\n",
       "      <td>n</td>\n",
       "      <td>b</td>\n",
       "      <td>...</td>\n",
       "      <td>s</td>\n",
       "      <td>p</td>\n",
       "      <td>p</td>\n",
       "      <td>p</td>\n",
       "      <td>w</td>\n",
       "      <td>o</td>\n",
       "      <td>e</td>\n",
       "      <td>w</td>\n",
       "      <td>v</td>\n",
       "      <td>d</td>\n",
       "    </tr>\n",
       "    <tr>\n",
       "      <th>4</th>\n",
       "      <td>e</td>\n",
       "      <td>x</td>\n",
       "      <td>s</td>\n",
       "      <td>g</td>\n",
       "      <td>f</td>\n",
       "      <td>n</td>\n",
       "      <td>f</td>\n",
       "      <td>w</td>\n",
       "      <td>b</td>\n",
       "      <td>g</td>\n",
       "      <td>...</td>\n",
       "      <td>k</td>\n",
       "      <td>w</td>\n",
       "      <td>w</td>\n",
       "      <td>p</td>\n",
       "      <td>w</td>\n",
       "      <td>t</td>\n",
       "      <td>p</td>\n",
       "      <td>w</td>\n",
       "      <td>n</td>\n",
       "      <td>g</td>\n",
       "    </tr>\n",
       "  </tbody>\n",
       "</table>\n",
       "<p>5 rows × 23 columns</p>\n",
       "</div>"
      ],
      "text/plain": [
       "   p  k  y  e  f  s f.1  c  n  b  ... k.1 p.1  w p.2 w.1  o e.1 w.2  v p.3\n",
       "0  e  k  s  n  f  n   a  c  b  y  ...   s   o  o   p   n  o   p   o  v   l\n",
       "1  p  k  s  e  f  f   f  c  n  b  ...   s   w  w   p   w  o   e   w  v   d\n",
       "2  p  k  y  c  f  m   a  c  b  y  ...   y   c  c   p   w  n   n   w  c   d\n",
       "3  p  k  s  n  f  y   f  c  n  b  ...   s   p  p   p   w  o   e   w  v   d\n",
       "4  e  x  s  g  f  n   f  w  b  g  ...   k   w  w   p   w  t   p   w  n   g\n",
       "\n",
       "[5 rows x 23 columns]"
      ]
     },
     "execution_count": 3,
     "metadata": {},
     "output_type": "execute_result"
    }
   ],
   "source": [
    "data.head()"
   ]
  },
  {
   "cell_type": "code",
   "execution_count": 4,
   "metadata": {},
   "outputs": [
    {
     "name": "stdout",
     "output_type": "stream",
     "text": [
      "Index(['p', 'k', 'y', 'e', 'f', 's', 'f.1', 'c', 'n', 'b', 't', '?', 's.1',\n",
      "       'k.1', 'p.1', 'w', 'p.2', 'w.1', 'o', 'e.1', 'w.2', 'v', 'p.3'],\n",
      "      dtype='object')\n"
     ]
    }
   ],
   "source": [
    "print(data.columns)"
   ]
  },
  {
   "cell_type": "code",
   "execution_count": 5,
   "metadata": {},
   "outputs": [],
   "source": [
    "data = data.reindex(np.random.permutation(data.index)) # shuffling the data\n",
    "\n",
    "y = data['p'].to_numpy() # labels from dataframe to numpy array\n",
    "x = data.drop(columns='p').to_numpy() # data from dataframe to numpy array"
   ]
  },
  {
   "cell_type": "code",
   "execution_count": 6,
   "metadata": {},
   "outputs": [],
   "source": [
    "# replacing 'p' with '1' and 'e' with '0'\n",
    "y = np.where(y=='p', '1', y)\n",
    "y = np.where(y=='e', '0', y)"
   ]
  },
  {
   "cell_type": "code",
   "execution_count": 7,
   "metadata": {},
   "outputs": [
    {
     "data": {
      "text/plain": [
       "array(['1', '0', '1', '0', '1', '1', '1', '0', '0', '1', '0', '0', '0',\n",
       "       '1', '0', '0', '1', '1', '1', '0', '1', '1', '1', '0', '1', '0',\n",
       "       '0', '1', '0', '1', '0', '0', '0', '0', '0', '0', '0', '1', '1',\n",
       "       '0', '0', '0', '0', '1', '1', '1', '1', '1', '0', '0', '0', '1',\n",
       "       '0', '1', '1', '1', '1', '0', '1', '1', '1', '0', '1', '0', '1',\n",
       "       '1', '1', '1', '0', '0', '0', '0', '1', '0', '1', '0', '0', '1',\n",
       "       '0', '1', '0', '0', '0', '0', '1', '0', '1', '1', '1', '1', '0',\n",
       "       '0', '1', '0', '0', '0', '0', '1', '0', '1', '0', '1', '0', '1',\n",
       "       '0', '0', '0', '0', '1', '0', '1', '0', '0', '0', '0', '1', '1',\n",
       "       '1', '1', '1', '0', '0', '1', '1', '0', '0', '0', '0', '1', '0',\n",
       "       '0', '0', '1', '1', '0', '1', '1', '0', '0', '0', '1', '0', '0',\n",
       "       '1', '1'], dtype=object)"
      ]
     },
     "execution_count": 7,
     "metadata": {},
     "output_type": "execute_result"
    }
   ],
   "source": [
    "y"
   ]
  },
  {
   "cell_type": "code",
   "execution_count": 37,
   "metadata": {},
   "outputs": [
    {
     "data": {
      "image/png": "[encoded data removed]",
      "text/plain": [
       "<Figure size 432x288 with 1 Axes>"
      ]
     },
     "metadata": {
      "needs_background": "light"
     },
     "output_type": "display_data"
    }
   ],
   "source": [
    "# Data is fairly balanced\n",
    "\n",
    "fig = plt.figure()\n",
    "ax = fig.add_axes([0,0,1,1])\n",
    "labels = ['p', 'e']\n",
    "num = [(y == '1').sum(), (y == '0').sum()]\n",
    "ax.bar(labels,num)\n",
    "plt.show()"
   ]
  },
  {
   "cell_type": "code",
   "execution_count": 10,
   "metadata": {},
   "outputs": [
    {
     "name": "stdout",
     "output_type": "stream",
     "text": [
      "(145, 22)\n",
      "(145,)\n"
     ]
    }
   ],
   "source": [
    "print(x.shape)\n",
    "print(y.shape)"
   ]
  },
  {
   "cell_type": "code",
   "execution_count": 11,
   "metadata": {},
   "outputs": [],
   "source": [
    "# computing different possible outcomes for every feature\n",
    "outcomes = []\n",
    "for i in range(22):\n",
    "    outcomes.append(list(set(x[...,i])))"
   ]
  },
  {
   "cell_type": "code",
   "execution_count": 12,
   "metadata": {},
   "outputs": [
    {
     "data": {
      "text/plain": [
       "[['k', 'b', 'x', 'f'],\n",
       " ['s', 'f', 'y'],\n",
       " ['g', 'c', 'e', 'w', 'n'],\n",
       " ['t', 'f'],\n",
       " ['f', 'y', 's', 'm', 'n'],\n",
       " ['a', 'f'],\n",
       " ['w', 'c'],\n",
       " ['b', 'n'],\n",
       " ['g', 'o', 'y', 'p', 'w', 'b', 'n'],\n",
       " ['t', 'e'],\n",
       " ['b', '?', 'c'],\n",
       " ['s', 'k', 'y'],\n",
       " ['s', 'k', 'y'],\n",
       " ['o', 'c', 'p', 'w', 'n'],\n",
       " ['o', 'c', 'p', 'w', 'n'],\n",
       " ['p'],\n",
       " ['w', 'o', 'n'],\n",
       " ['t', 'o', 'n'],\n",
       " ['n', 'e', 'p'],\n",
       " ['o', 'y', 'w', 'b', 'n'],\n",
       " ['c', 'y', 's', 'v', 'n'],\n",
       " ['d', 'l', 'g', 'p']]"
      ]
     },
     "execution_count": 12,
     "metadata": {},
     "output_type": "execute_result"
    }
   ],
   "source": [
    "outcomes"
   ]
  },
  {
   "cell_type": "markdown",
   "metadata": {},
   "source": [
    "# Support and Confidence"
   ]
  },
  {
   "cell_type": "code",
   "execution_count": 63,
   "metadata": {},
   "outputs": [],
   "source": [
    "possible_outcomes = []\n",
    "for i in data.columns:\n",
    "    for j in set(data[i]):\n",
    "        possible_outcomes.append((i,j))"
   ]
  },
  {
   "cell_type": "code",
   "execution_count": 64,
   "metadata": {},
   "outputs": [],
   "source": [
    "support = [] # list of support\n",
    "econf = [] # list of confidence for features and e output\n",
    "pconf = [] # list of confidence for features and p output\n",
    "rule = [] # list of rules based on the confidence of the outcome\n",
    "for feat, out in possible_outcomes:\n",
    "    v = np.array(data[feat])\n",
    "    sup = (v==out).sum()\n",
    "    support.append(sup)\n",
    "    e_conf = (np.dot((y=='0').astype(int), (v==out).astype(int)))/sup\n",
    "    p_conf = (np.dot((y=='1').astype(int), (v==out).astype(int)))/sup\n",
    "    econf.append(e_conf)\n",
    "    pconf.append(p_conf)"
   ]
  },
  {
   "cell_type": "code",
   "execution_count": 65,
   "metadata": {},
   "outputs": [],
   "source": [
    "df = pd.DataFrame([support, econf, pconf], columns=possible_outcomes)\n",
    "df.columns = pd.MultiIndex.from_tuples(df.columns, names=['feature', 'outcomes'])"
   ]
  },
  {
   "cell_type": "code",
   "execution_count": 66,
   "metadata": {},
   "outputs": [
    {
     "data": {
      "text/html": [
       "<div>\n",
       "<style scoped>\n",
       "    .dataframe tbody tr th:only-of-type {\n",
       "        vertical-align: middle;\n",
       "    }\n",
       "\n",
       "    .dataframe tbody tr th {\n",
       "        vertical-align: top;\n",
       "    }\n",
       "\n",
       "    .dataframe thead tr th {\n",
       "        text-align: left;\n",
       "    }\n",
       "</style>\n",
       "<table border=\"1\" class=\"dataframe\">\n",
       "  <thead>\n",
       "    <tr>\n",
       "      <th>feature</th>\n",
       "      <th colspan=\"2\" halign=\"left\">p</th>\n",
       "      <th colspan=\"4\" halign=\"left\">k</th>\n",
       "      <th colspan=\"3\" halign=\"left\">y</th>\n",
       "      <th>e</th>\n",
       "      <th>...</th>\n",
       "      <th>w.2</th>\n",
       "      <th colspan=\"5\" halign=\"left\">v</th>\n",
       "      <th colspan=\"4\" halign=\"left\">p.3</th>\n",
       "    </tr>\n",
       "    <tr>\n",
       "      <th>outcomes</th>\n",
       "      <th>e</th>\n",
       "      <th>p</th>\n",
       "      <th>k</th>\n",
       "      <th>b</th>\n",
       "      <th>x</th>\n",
       "      <th>f</th>\n",
       "      <th>s</th>\n",
       "      <th>f</th>\n",
       "      <th>y</th>\n",
       "      <th>g</th>\n",
       "      <th>...</th>\n",
       "      <th>n</th>\n",
       "      <th>y</th>\n",
       "      <th>s</th>\n",
       "      <th>c</th>\n",
       "      <th>v</th>\n",
       "      <th>n</th>\n",
       "      <th>d</th>\n",
       "      <th>l</th>\n",
       "      <th>g</th>\n",
       "      <th>p</th>\n",
       "    </tr>\n",
       "  </thead>\n",
       "  <tbody>\n",
       "    <tr>\n",
       "      <th>0</th>\n",
       "      <td>78.000000</td>\n",
       "      <td>67.000000</td>\n",
       "      <td>83.000000</td>\n",
       "      <td>19.000000</td>\n",
       "      <td>25.00</td>\n",
       "      <td>18.0</td>\n",
       "      <td>91.000000</td>\n",
       "      <td>16.0000</td>\n",
       "      <td>38.000000</td>\n",
       "      <td>12.000000</td>\n",
       "      <td>...</td>\n",
       "      <td>12.000000</td>\n",
       "      <td>4.00</td>\n",
       "      <td>13.000000</td>\n",
       "      <td>22.000000</td>\n",
       "      <td>94.000000</td>\n",
       "      <td>12.000000</td>\n",
       "      <td>25.00</td>\n",
       "      <td>69.000000</td>\n",
       "      <td>25.00</td>\n",
       "      <td>26.000000</td>\n",
       "    </tr>\n",
       "    <tr>\n",
       "      <th>1</th>\n",
       "      <td>0.512821</td>\n",
       "      <td>0.567164</td>\n",
       "      <td>0.566265</td>\n",
       "      <td>0.473684</td>\n",
       "      <td>0.52</td>\n",
       "      <td>0.5</td>\n",
       "      <td>0.527473</td>\n",
       "      <td>0.5625</td>\n",
       "      <td>0.552632</td>\n",
       "      <td>0.583333</td>\n",
       "      <td>...</td>\n",
       "      <td>0.583333</td>\n",
       "      <td>0.25</td>\n",
       "      <td>0.692308</td>\n",
       "      <td>0.272727</td>\n",
       "      <td>0.606383</td>\n",
       "      <td>0.416667</td>\n",
       "      <td>0.56</td>\n",
       "      <td>0.550725</td>\n",
       "      <td>0.56</td>\n",
       "      <td>0.461538</td>\n",
       "    </tr>\n",
       "    <tr>\n",
       "      <th>2</th>\n",
       "      <td>0.487179</td>\n",
       "      <td>0.432836</td>\n",
       "      <td>0.433735</td>\n",
       "      <td>0.526316</td>\n",
       "      <td>0.48</td>\n",
       "      <td>0.5</td>\n",
       "      <td>0.472527</td>\n",
       "      <td>0.4375</td>\n",
       "      <td>0.447368</td>\n",
       "      <td>0.416667</td>\n",
       "      <td>...</td>\n",
       "      <td>0.416667</td>\n",
       "      <td>0.75</td>\n",
       "      <td>0.307692</td>\n",
       "      <td>0.727273</td>\n",
       "      <td>0.393617</td>\n",
       "      <td>0.583333</td>\n",
       "      <td>0.44</td>\n",
       "      <td>0.449275</td>\n",
       "      <td>0.44</td>\n",
       "      <td>0.538462</td>\n",
       "    </tr>\n",
       "  </tbody>\n",
       "</table>\n",
       "<p>3 rows × 79 columns</p>\n",
       "</div>"
      ],
      "text/plain": [
       "feature           p                     k                                  y  \\\n",
       "outcomes          e          p          k          b      x     f          s   \n",
       "0         78.000000  67.000000  83.000000  19.000000  25.00  18.0  91.000000   \n",
       "1          0.512821   0.567164   0.566265   0.473684   0.52   0.5   0.527473   \n",
       "2          0.487179   0.432836   0.433735   0.526316   0.48   0.5   0.472527   \n",
       "\n",
       "feature                               e  ...        w.2     v             \\\n",
       "outcomes        f          y          g  ...          n     y          s   \n",
       "0         16.0000  38.000000  12.000000  ...  12.000000  4.00  13.000000   \n",
       "1          0.5625   0.552632   0.583333  ...   0.583333  0.25   0.692308   \n",
       "2          0.4375   0.447368   0.416667  ...   0.416667  0.75   0.307692   \n",
       "\n",
       "feature                                      p.3                               \n",
       "outcomes          c          v          n      d          l      g          p  \n",
       "0         22.000000  94.000000  12.000000  25.00  69.000000  25.00  26.000000  \n",
       "1          0.272727   0.606383   0.416667   0.56   0.550725   0.56   0.461538  \n",
       "2          0.727273   0.393617   0.583333   0.44   0.449275   0.44   0.538462  \n",
       "\n",
       "[3 rows x 79 columns]"
      ]
     },
     "execution_count": 66,
     "metadata": {},
     "output_type": "execute_result"
    }
   ],
   "source": [
    "# first row is support, second row is 'e' confidence, third row is 'p' confidence\n",
    "df"
   ]
  },
  {
   "cell_type": "markdown",
   "metadata": {},
   "source": [
    "# Functions"
   ]
  },
  {
   "cell_type": "code",
   "execution_count": 13,
   "metadata": {},
   "outputs": [],
   "source": [
    "def split(k, x, y):\n",
    "    # in this function, I am construction the data fold and also splitting the data into train and test sets\n",
    "    \n",
    "    # k: number of folds\n",
    "    # x: input\n",
    "    # y: output\n",
    "    \n",
    "    x_train = []\n",
    "    y_train = []\n",
    "    x_test = []\n",
    "    y_test = []\n",
    "    l = math.ceil(x.shape[0]/k) # len of each fold\n",
    "    for i in range(k):\n",
    "        # in each step I am using 1 fold as a test set and the others as train\n",
    "        x_test.append(x[l*i: min(l*(i+1), x.shape[0])])\n",
    "        y_test.append(y[l*i: min(l*(i+1), x.shape[0])])\n",
    "        x_train.append(np.concatenate((x[0:l*i], x[min(l*(i+1), x.shape[0]):x.shape[0]])))\n",
    "        y_train.append(np.concatenate((y[0:l*i], y[min(l*(i+1), y.shape[0]):y.shape[0]])))\n",
    "    return x_train, y_train, x_test, y_test"
   ]
  },
  {
   "cell_type": "code",
   "execution_count": 14,
   "metadata": {},
   "outputs": [],
   "source": [
    "def train(x, y, outcomes):\n",
    "    # In this function, I am finding rules for each possible outcome of the feature based on support and confidence for each output\n",
    "    \n",
    "    # x: input\n",
    "    # y: output\n",
    "    # outomes: possible outcomes of features\n",
    "    \n",
    "    rule = [] # list of rules for different features and outcomes\n",
    "    \n",
    "    for i in range(x.shape[1]):\n",
    "        r = []\n",
    "        for j in outcomes[i]:\n",
    "            v = x[...,i] # v is a feature column and j can be different outcomes of that feature\n",
    "            sup = (v == j).sum() # support for that outcome\n",
    "            e_conf = (np.dot((y=='0').astype(int), (v==j).astype(int)))/sup # e confidence\n",
    "            p_conf = (np.dot((y=='1').astype(int), (v==j).astype(int)))/sup # p confidence\n",
    "            if e_conf > p_conf:\n",
    "                r.append('0')\n",
    "            else:\n",
    "                r.append('1')\n",
    "        rule.append(r)\n",
    "        \n",
    "    return rule"
   ]
  },
  {
   "cell_type": "code",
   "execution_count": 53,
   "metadata": {},
   "outputs": [],
   "source": [
    "def feature_selection(x, y, rule, outcomes):\n",
    "    # In this function, I am selecting the best feature to use as a classifier based on accuracy\n",
    "    \n",
    "    # x: input\n",
    "    # y: output\n",
    "    # rule: rules found in training\n",
    "    # outcomes: possible outcomes of features\n",
    "    \n",
    "    acc = [] # list of accuracies for features\n",
    "    for i in range(x.shape[1]):\n",
    "        count = 0\n",
    "        for j in range(x.shape[0]):\n",
    "            if rule[i][outcomes[i].index(x[j][i])] == y[j]:\n",
    "                count += 1\n",
    "        acc.append(count/x.shape[0])\n",
    "        \n",
    "    # Bar plot of accuracy based on each feature\n",
    "    \n",
    "    fig = plt.figure()\n",
    "    ax = fig.add_axes([0,0,1,1])\n",
    "    ax.bar(list(data.columns[1:]), acc)\n",
    "    plt.show()\n",
    "    \n",
    "    return int(np.array(acc).argmax()) # returning the index of highest accuracy"
   ]
  },
  {
   "cell_type": "code",
   "execution_count": 16,
   "metadata": {},
   "outputs": [],
   "source": [
    "def predict(x_test, best_feature, rule, outcomes):\n",
    "    # In this function, I am making prediction based on the rules\n",
    "    \n",
    "    # x_test: test set for prediction\n",
    "    # best_feature: highest accuracy feature selected\n",
    "    # rule: rules found in training\n",
    "    # outcomes: possible outcomes of features\n",
    "    \n",
    "    pred = []\n",
    "    for i in x_test[...,best_feature]:\n",
    "        pred.append(rule[best_feature][outcomes[best_feature].index(i)])\n",
    "    return pred"
   ]
  },
  {
   "cell_type": "markdown",
   "metadata": {},
   "source": [
    "## Precision, Recall, Accuracy and F-Measure\n",
    "\n",
    "\\begin{equation}\n",
    "\\text { Precision }=\\frac{t p}{t p+f p}\n",
    "\\end{equation}\n",
    "\n",
    "\\begin{equation}\n",
    "\\text { Recall }=\\frac{t p}{t p+f n}\n",
    "\\end{equation}\n",
    "\n",
    "\\begin{equation}\n",
    "\\text { Accuracy }=\\frac{t p+t n}{t p+t n+f p+f n}\n",
    "\\end{equation}\n",
    "\n",
    "\\begin{equation}\n",
    "F=2 \\cdot \\frac{\\text { precision } \\cdot \\text { recall }}{\\text { precision }+\\text { recall }}\n",
    "\\end{equation}"
   ]
  },
  {
   "cell_type": "code",
   "execution_count": 17,
   "metadata": {},
   "outputs": [],
   "source": [
    "def evaluate(pred, y):\n",
    "    # In this function, I am computing evaluation metrics based on the equations above\n",
    "    \n",
    "    # pred: array of prediction\n",
    "    # y: correct labels\n",
    "    \n",
    "    tp = np.dot((pred == '1'), (y == '1')).sum()\n",
    "    fp = np.dot((pred == '1'), (y == '0')).sum()\n",
    "    fn = np.dot((pred == '0'), (y == '1')).sum()\n",
    "    tn = np.dot((pred == '0'), (y == '0')).sum()\n",
    "    precision = tp/(tp+fp)\n",
    "    recall = tp/(tp+fn)\n",
    "    acc = (tp+tn)/(tp+tn+fp+fn)\n",
    "    f_measure = (2*precision*recall)/(precision+recall)\n",
    "    return precision, recall, acc, f_measure"
   ]
  },
  {
   "cell_type": "code",
   "execution_count": 18,
   "metadata": {},
   "outputs": [],
   "source": [
    "def kfold(k, x, y):\n",
    "    # In this function, I am integrating the functions for training and kfold validation\n",
    "    \n",
    "    # k: number of folds\n",
    "    # x: input\n",
    "    # y: labels\n",
    "    \n",
    "    x_train, y_train, x_test, y_test = split(k, x, y)\n",
    "    for i in range(k):\n",
    "        rule = train(x_train[i], y_train[i], outcomes)\n",
    "        best_feature = feature_selection(x_train[i], y_train[i], rule, outcomes)\n",
    "        pred = predict(x_test[i], best_feature, rule, outcomes)\n",
    "        pred = np.array(pred)\n",
    "        precision, recall, acc, f = evaluate(pred, y_test[i])\n",
    "        print(\"precision: {} \\t recall: {} \\t accuracy: {} \\t f-measure: {} \".format(precision, recall, acc, f))"
   ]
  },
  {
   "cell_type": "code",
   "execution_count": 54,
   "metadata": {
    "scrolled": false
   },
   "outputs": [
    {
     "data": {
      "image/png": "[encoded data removed]",
      "text/plain": [
       "<Figure size 432x288 with 1 Axes>"
      ]
     },
     "metadata": {
      "needs_background": "light"
     },
     "output_type": "display_data"
    },
    {
     "name": "stdout",
     "output_type": "stream",
     "text": [
      "precision: 1.0 \t recall: 1.0 \t accuracy: 1.0 \t f-measure: 1.0 \n"
     ]
    },
    {
     "data": {
      "image/png": "[encoded data removed]",
      "text/plain": [
       "<Figure size 432x288 with 1 Axes>"
      ]
     },
     "metadata": {
      "needs_background": "light"
     },
     "output_type": "display_data"
    },
    {
     "name": "stdout",
     "output_type": "stream",
     "text": [
      "precision: 1.0 \t recall: 1.0 \t accuracy: 1.0 \t f-measure: 1.0 \n"
     ]
    },
    {
     "data": {
      "image/png": "[encoded data removed]",
      "text/plain": [
       "<Figure size 432x288 with 1 Axes>"
      ]
     },
     "metadata": {
      "needs_background": "light"
     },
     "output_type": "display_data"
    },
    {
     "name": "stdout",
     "output_type": "stream",
     "text": [
      "precision: 1.0 \t recall: 1.0 \t accuracy: 1.0 \t f-measure: 1.0 \n"
     ]
    },
    {
     "name": "stderr",
     "output_type": "stream",
     "text": [
      "/Library/Frameworks/Python.framework/Versions/3.6/lib/python3.6/site-packages/ipykernel_launcher.py:11: RuntimeWarning: invalid value encountered in long_scalars\n",
      "  # This is added back by InteractiveShellApp.init_path()\n",
      "/Library/Frameworks/Python.framework/Versions/3.6/lib/python3.6/site-packages/ipykernel_launcher.py:12: RuntimeWarning: invalid value encountered in long_scalars\n",
      "  if sys.path[0] == '':\n"
     ]
    },
    {
     "data": {
      "image/png": "[encoded data removed]",
      "text/plain": [
       "<Figure size 432x288 with 1 Axes>"
      ]
     },
     "metadata": {
      "needs_background": "light"
     },
     "output_type": "display_data"
    },
    {
     "name": "stdout",
     "output_type": "stream",
     "text": [
      "precision: 1.0 \t recall: 1.0 \t accuracy: 1.0 \t f-measure: 1.0 \n"
     ]
    },
    {
     "data": {
      "image/png": "[encoded data removed]",
      "text/plain": [
       "<Figure size 432x288 with 1 Axes>"
      ]
     },
     "metadata": {
      "needs_background": "light"
     },
     "output_type": "display_data"
    },
    {
     "name": "stdout",
     "output_type": "stream",
     "text": [
      "precision: 1.0 \t recall: 1.0 \t accuracy: 1.0 \t f-measure: 1.0 \n"
     ]
    }
   ],
   "source": [
    "kfold(5, x, y)"
   ]
  }
 ],
 "metadata": {
  "kernelspec": {
   "display_name": "Python 3",
   "language": "python",
   "name": "python3"
  },
  "language_info": {
   "codemirror_mode": {
    "name": "ipython",
    "version": 3
   },
   "file_extension": ".py",
   "mimetype": "text/x-python",
   "name": "python",
   "nbconvert_exporter": "python",
   "pygments_lexer": "ipython3",
   "version": "3.6.5"
  }
 },
 "nbformat": 4,
 "nbformat_minor": 2
}
